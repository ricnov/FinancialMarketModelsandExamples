{
 "cells": [
  {
   "cell_type": "code",
   "execution_count": null,
   "metadata": {},
   "outputs": [],
   "source": [
    "from scipy.stats import norm\n",
    "import math\n",
    "\n",
    "def black (F_0, y, expiry,vol, isCall):\n",
    "    \"\"\" \n",
    "    F_0: forward rate at time 0\n",
    "    y: option strike\n",
    "    expiry: option expiry (in years)\n",
    "    vol: Black implied volatility\n",
    "    isCall: True or False\n",
    "    \"\"\"\n",
    "    option_value =0\n",
    "    if expiry * vol == 0.0:\n",
    "        if isCall:\n",
    "            option_value = max(F_0 - y, 0.0)\n",
    "        else:\n",
    "            option_value = max(y - F_0, 0.0)\n",
    "    else:\n",
    "        d1 = dPlusBlack (F_0 = F_0, y=y, expiry=expiry, vol=vol)\n",
    "        d2 = dMinusBlack (F_0 = F_0, y=y, expiry=expiry, vol=vol)\n",
    "        if isCall:\n",
    "            option_value = (F_0 * norm.cdf(d1) - y * norm.cdf(d2))\n",
    "        else:\n",
    "            option_value = (y * norm.cdf(-d2) - F_0 * norm.cdf(-d1))\n",
    "            \n",
    "    return option_value\n",
    "\n",
    "def dPlusBlack (F_0,y,expiry,vol):\n",
    "    \"\"\"Compute the d+ term appearing in the Black formula\"\"\"\n",
    "    d_plus = ((math.log(F_0 / y) + 0.5*vol*vol*expiry)/vol /math.sqrt(expiry))\n",
    "    \n",
    "    return d_plus\n",
    "\n",
    "def dMinusBlack (F_0, y, expiry,vol):\n",
    "    \"\"\"Compute the d- term apperaring in the Black formula\"\"\"\n",
    "    d_minus = (dPlusBlack(F_0= F_0, y = y, expiry = expiry, vol = vol) - vol * math.sqrt(expiry))\n",
    "    \n",
    "    return d_minus"
   ]
  }
 ],
 "metadata": {
  "kernelspec": {
   "display_name": "Python 3",
   "language": "python",
   "name": "python3"
  },
  "language_info": {
   "codemirror_mode": {
    "name": "ipython",
    "version": 3
   },
   "file_extension": ".py",
   "mimetype": "text/x-python",
   "name": "python",
   "nbconvert_exporter": "python",
   "pygments_lexer": "ipython3",
   "version": "3.8.3"
  }
 },
 "nbformat": 4,
 "nbformat_minor": 4
}
